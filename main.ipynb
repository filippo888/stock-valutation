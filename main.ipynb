{
 "cells": [
  {
   "cell_type": "markdown",
   "id": "80005f46-a553-4612-992c-d09be06f4319",
   "metadata": {},
   "source": [
    "# Valuation of Stocks\n",
    "We will implement a simple calculator of the theorical stock price of a company.\n",
    "### Entrepise Value / EBITDA \n",
    "We did all the analysis with EV/EBITDA. Thanks at this ratio we can derive the thorical stock price with the this simple formula: \n",
    "\n",
    "\n",
    "$ EV = EBITDA  [\\frac{EV  }{EBITDA}]$\n",
    "\n",
    "\n",
    "$ Price = \\frac{EV -  Debt} {Share \\ Outstanding} $\n",
    "\n",
    "In order to get the folowing data: \n",
    "- EV/EBITDA\n",
    "- Debt\n",
    "- Share Outstanding\n",
    "\n",
    "we scrape the yhaoo finance website."
   ]
  },
  {
   "cell_type": "code",
   "execution_count": 1,
   "id": "9ca35a8c-06ac-4aad-9945-29c2db745394",
   "metadata": {},
   "outputs": [
    {
     "name": "stdout",
     "output_type": "stream",
     "text": [
      "PYPL\n",
      "Share price: **94.93**$ vs real price: 104.14 (diff -8.84%)\n",
      "\n",
      "TSLA\n",
      "Share price: **770.73**$ vs real price: 860.68 (diff -10.45%)\n",
      "\n",
      "BABA\n",
      "Share price: **70.25**$ vs real price: 101.96 (diff -31.10%)\n",
      "\n",
      "NIO\n",
      "Share price: **40.89**$ vs real price: 20.17 (diff 102.72%)\n",
      "\n",
      "COIN\n",
      "Share price: **372.99**$ vs real price: 183.84 (diff 102.89%)\n",
      "\n",
      "PTON\n",
      "Share price: **23.41**$ vs real price: 25.07 (diff -6.64%)\n",
      "\n",
      "NFLX\n",
      "Share price: **97.58**$ vs real price: 370.08 (diff -73.63%)\n",
      "\n",
      "FB\n",
      "Share price: **227.07**$ vs real price: 205.68 (diff 10.40%)\n",
      "\n",
      "GOOGL\n",
      "Share price: **4784.03**$ vs real price: 2688.45 (diff 77.95%)\n",
      "\n",
      "PLTR\n",
      "Share price: **9.05**$ vs real price: 11.53 (diff -21.54%)\n",
      "\n",
      "NVDA\n",
      "Share price: **233.33**$ vs real price: 240.25 (diff -2.88%)\n",
      "\n",
      "AMZN\n",
      "Share price: **2208.63**$ vs real price: 2995.48 (diff -26.27%)\n",
      "\n",
      "RIVN\n",
      "Share price: **47.59**$ vs real price: 52.37 (diff -9.13%)\n",
      "\n"
     ]
    }
   ],
   "source": [
    "import helper\n",
    "mrk = ['PYPL','TSLA', 'BABA','NIO', 'COIN', 'PTON', 'NFLX', 'FB', 'GOOGL', 'PLTR', 'NVDA', 'AMZN', 'RIVN' ]\n",
    "for i in mrk:\n",
    "    print(i)\n",
    "    data =  helper.get_data(i)\n",
    "    if data== 0:\n",
    "        print(\"problem in retriving the data from yhaoo finance\")\n",
    "    helper.caclulate_price(data)\n",
    "    print()"
   ]
  }
 ],
 "metadata": {
  "kernelspec": {
   "display_name": "Python [conda env:.conda-adaexam] *",
   "language": "python",
   "name": "conda-env-.conda-adaexam-py"
  },
  "language_info": {
   "codemirror_mode": {
    "name": "ipython",
    "version": 3
   },
   "file_extension": ".py",
   "mimetype": "text/x-python",
   "name": "python",
   "nbconvert_exporter": "python",
   "pygments_lexer": "ipython3",
   "version": "3.8.12"
  }
 },
 "nbformat": 4,
 "nbformat_minor": 5
}
